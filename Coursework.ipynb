{
 "cells": [
  {
   "cell_type": "code",
   "execution_count": 1,
   "id": "e1879269",
   "metadata": {},
   "outputs": [],
   "source": [
    "# Load Libraries\n",
    "\n",
    "import pandas as pd\n",
    "from sklearn.svm import SVC\n",
    "from sklearn.model_selection import train_test_split\n",
    "from sklearn import metrics"
   ]
  },
  {
   "cell_type": "code",
   "execution_count": 2,
   "id": "cadf0387",
   "metadata": {},
   "outputs": [
    {
     "name": "stdout",
     "output_type": "stream",
     "text": [
      "(6321, 13)\n"
     ]
    }
   ],
   "source": [
    "# Loading Data\n",
    "\n",
    "df = pd.read_csv('Data/Shill_Bidding_Dataset_With_Head.csv')\n",
    "print(df.shape)\n"
   ]
  },
  {
   "cell_type": "code",
   "execution_count": 3,
   "id": "cbc02abc",
   "metadata": {},
   "outputs": [
    {
     "name": "stdout",
     "output_type": "stream",
     "text": [
      "<class 'pandas.core.frame.DataFrame'>\n",
      "RangeIndex: 6321 entries, 0 to 6320\n",
      "Data columns (total 13 columns):\n",
      " #   Column                  Non-Null Count  Dtype  \n",
      "---  ------                  --------------  -----  \n",
      " 0   Record_ID               6321 non-null   int64  \n",
      " 1   Auction_ID              6321 non-null   int64  \n",
      " 2   Bidder_ID               6321 non-null   object \n",
      " 3   Bidder_Tendency         6321 non-null   float64\n",
      " 4   Bidding_Ratio           6321 non-null   float64\n",
      " 5   Successive_Outbidding   6321 non-null   float64\n",
      " 6   Last_Bidding            6321 non-null   float64\n",
      " 7   Auction_Bids            6321 non-null   float64\n",
      " 8   Starting_Price_Average  6321 non-null   float64\n",
      " 9   Early_Bidding           6321 non-null   float64\n",
      " 10  Winning_Ratio           6321 non-null   float64\n",
      " 11  Auction_Duration        6321 non-null   int64  \n",
      " 12  Class                   6321 non-null   int64  \n",
      "dtypes: float64(8), int64(4), object(1)\n",
      "memory usage: 642.1+ KB\n"
     ]
    }
   ],
   "source": [
    "df.info()"
   ]
  },
  {
   "cell_type": "code",
   "execution_count": 4,
   "id": "96b46c08",
   "metadata": {},
   "outputs": [
    {
     "name": "stdout",
     "output_type": "stream",
     "text": [
      "number of duplicate rows:  Empty DataFrame\n",
      "Columns: [Record_ID, Auction_ID, Bidder_ID, Bidder_Tendency, Bidding_Ratio, Successive_Outbidding, Last_Bidding, Auction_Bids, Starting_Price_Average, Early_Bidding, Winning_Ratio, Auction_Duration, Class]\n",
      "Index: []\n"
     ]
    }
   ],
   "source": [
    "duplicate_rows_df = df[df.duplicated()]\n",
    "print('number of duplicate rows: ', duplicate_rows_df)"
   ]
  },
  {
   "cell_type": "code",
   "execution_count": 5,
   "id": "8a7da0d9",
   "metadata": {},
   "outputs": [
    {
     "name": "stdout",
     "output_type": "stream",
     "text": [
      "(6321, 12)\n"
     ]
    },
    {
     "data": {
      "text/html": [
       "<div>\n",
       "<style scoped>\n",
       "    .dataframe tbody tr th:only-of-type {\n",
       "        vertical-align: middle;\n",
       "    }\n",
       "\n",
       "    .dataframe tbody tr th {\n",
       "        vertical-align: top;\n",
       "    }\n",
       "\n",
       "    .dataframe thead th {\n",
       "        text-align: right;\n",
       "    }\n",
       "</style>\n",
       "<table border=\"1\" class=\"dataframe\">\n",
       "  <thead>\n",
       "    <tr style=\"text-align: right;\">\n",
       "      <th></th>\n",
       "      <th>Auction_ID</th>\n",
       "      <th>Bidder_ID</th>\n",
       "      <th>Bidder_Tendency</th>\n",
       "      <th>Bidding_Ratio</th>\n",
       "      <th>Successive_Outbidding</th>\n",
       "      <th>Last_Bidding</th>\n",
       "      <th>Auction_Bids</th>\n",
       "      <th>Starting_Price_Average</th>\n",
       "      <th>Early_Bidding</th>\n",
       "      <th>Winning_Ratio</th>\n",
       "      <th>Auction_Duration</th>\n",
       "      <th>Class</th>\n",
       "    </tr>\n",
       "    <tr>\n",
       "      <th>Record_ID</th>\n",
       "      <th></th>\n",
       "      <th></th>\n",
       "      <th></th>\n",
       "      <th></th>\n",
       "      <th></th>\n",
       "      <th></th>\n",
       "      <th></th>\n",
       "      <th></th>\n",
       "      <th></th>\n",
       "      <th></th>\n",
       "      <th></th>\n",
       "      <th></th>\n",
       "    </tr>\n",
       "  </thead>\n",
       "  <tbody>\n",
       "    <tr>\n",
       "      <th>1</th>\n",
       "      <td>732</td>\n",
       "      <td>_***i</td>\n",
       "      <td>0.200000</td>\n",
       "      <td>0.400000</td>\n",
       "      <td>0.0</td>\n",
       "      <td>0.000028</td>\n",
       "      <td>0.0</td>\n",
       "      <td>0.993593</td>\n",
       "      <td>0.000028</td>\n",
       "      <td>0.666667</td>\n",
       "      <td>5</td>\n",
       "      <td>0</td>\n",
       "    </tr>\n",
       "    <tr>\n",
       "      <th>2</th>\n",
       "      <td>732</td>\n",
       "      <td>g***r</td>\n",
       "      <td>0.024390</td>\n",
       "      <td>0.200000</td>\n",
       "      <td>0.0</td>\n",
       "      <td>0.013123</td>\n",
       "      <td>0.0</td>\n",
       "      <td>0.993593</td>\n",
       "      <td>0.013123</td>\n",
       "      <td>0.944444</td>\n",
       "      <td>5</td>\n",
       "      <td>0</td>\n",
       "    </tr>\n",
       "    <tr>\n",
       "      <th>3</th>\n",
       "      <td>732</td>\n",
       "      <td>t***p</td>\n",
       "      <td>0.142857</td>\n",
       "      <td>0.200000</td>\n",
       "      <td>0.0</td>\n",
       "      <td>0.003042</td>\n",
       "      <td>0.0</td>\n",
       "      <td>0.993593</td>\n",
       "      <td>0.003042</td>\n",
       "      <td>1.000000</td>\n",
       "      <td>5</td>\n",
       "      <td>0</td>\n",
       "    </tr>\n",
       "    <tr>\n",
       "      <th>4</th>\n",
       "      <td>732</td>\n",
       "      <td>7***n</td>\n",
       "      <td>0.100000</td>\n",
       "      <td>0.200000</td>\n",
       "      <td>0.0</td>\n",
       "      <td>0.097477</td>\n",
       "      <td>0.0</td>\n",
       "      <td>0.993593</td>\n",
       "      <td>0.097477</td>\n",
       "      <td>1.000000</td>\n",
       "      <td>5</td>\n",
       "      <td>0</td>\n",
       "    </tr>\n",
       "    <tr>\n",
       "      <th>5</th>\n",
       "      <td>900</td>\n",
       "      <td>z***z</td>\n",
       "      <td>0.051282</td>\n",
       "      <td>0.222222</td>\n",
       "      <td>0.0</td>\n",
       "      <td>0.001318</td>\n",
       "      <td>0.0</td>\n",
       "      <td>0.000000</td>\n",
       "      <td>0.001242</td>\n",
       "      <td>0.500000</td>\n",
       "      <td>7</td>\n",
       "      <td>0</td>\n",
       "    </tr>\n",
       "  </tbody>\n",
       "</table>\n",
       "</div>"
      ],
      "text/plain": [
       "           Auction_ID Bidder_ID  Bidder_Tendency  Bidding_Ratio  \\\n",
       "Record_ID                                                         \n",
       "1                 732     _***i         0.200000       0.400000   \n",
       "2                 732     g***r         0.024390       0.200000   \n",
       "3                 732     t***p         0.142857       0.200000   \n",
       "4                 732     7***n         0.100000       0.200000   \n",
       "5                 900     z***z         0.051282       0.222222   \n",
       "\n",
       "           Successive_Outbidding  Last_Bidding  Auction_Bids  \\\n",
       "Record_ID                                                      \n",
       "1                            0.0      0.000028           0.0   \n",
       "2                            0.0      0.013123           0.0   \n",
       "3                            0.0      0.003042           0.0   \n",
       "4                            0.0      0.097477           0.0   \n",
       "5                            0.0      0.001318           0.0   \n",
       "\n",
       "           Starting_Price_Average  Early_Bidding  Winning_Ratio  \\\n",
       "Record_ID                                                         \n",
       "1                        0.993593       0.000028       0.666667   \n",
       "2                        0.993593       0.013123       0.944444   \n",
       "3                        0.993593       0.003042       1.000000   \n",
       "4                        0.993593       0.097477       1.000000   \n",
       "5                        0.000000       0.001242       0.500000   \n",
       "\n",
       "           Auction_Duration  Class  \n",
       "Record_ID                           \n",
       "1                         5      0  \n",
       "2                         5      0  \n",
       "3                         5      0  \n",
       "4                         5      0  \n",
       "5                         7      0  "
      ]
     },
     "execution_count": 5,
     "metadata": {},
     "output_type": "execute_result"
    }
   ],
   "source": [
    "df = pd.read_csv('Data/Shill_Bidding_Dataset_With_Head.csv', index_col='Record_ID')\n",
    "print(df.shape)\n",
    "df.head(5)"
   ]
  },
  {
   "cell_type": "code",
   "execution_count": 6,
   "id": "d8d6636a",
   "metadata": {},
   "outputs": [
    {
     "data": {
      "text/html": [
       "<div>\n",
       "<style scoped>\n",
       "    .dataframe tbody tr th:only-of-type {\n",
       "        vertical-align: middle;\n",
       "    }\n",
       "\n",
       "    .dataframe tbody tr th {\n",
       "        vertical-align: top;\n",
       "    }\n",
       "\n",
       "    .dataframe thead th {\n",
       "        text-align: right;\n",
       "    }\n",
       "</style>\n",
       "<table border=\"1\" class=\"dataframe\">\n",
       "  <thead>\n",
       "    <tr style=\"text-align: right;\">\n",
       "      <th></th>\n",
       "      <th>Auction_ID</th>\n",
       "      <th>Bidder_Tendency</th>\n",
       "      <th>Bidding_Ratio</th>\n",
       "      <th>Successive_Outbidding</th>\n",
       "      <th>Last_Bidding</th>\n",
       "      <th>Auction_Bids</th>\n",
       "      <th>Starting_Price_Average</th>\n",
       "      <th>Early_Bidding</th>\n",
       "      <th>Winning_Ratio</th>\n",
       "      <th>Auction_Duration</th>\n",
       "      <th>Class</th>\n",
       "    </tr>\n",
       "    <tr>\n",
       "      <th>Record_ID</th>\n",
       "      <th></th>\n",
       "      <th></th>\n",
       "      <th></th>\n",
       "      <th></th>\n",
       "      <th></th>\n",
       "      <th></th>\n",
       "      <th></th>\n",
       "      <th></th>\n",
       "      <th></th>\n",
       "      <th></th>\n",
       "      <th></th>\n",
       "    </tr>\n",
       "  </thead>\n",
       "  <tbody>\n",
       "    <tr>\n",
       "      <th>1</th>\n",
       "      <td>732</td>\n",
       "      <td>0.200000</td>\n",
       "      <td>0.400000</td>\n",
       "      <td>0.0</td>\n",
       "      <td>0.000028</td>\n",
       "      <td>0.0</td>\n",
       "      <td>0.993593</td>\n",
       "      <td>0.000028</td>\n",
       "      <td>0.666667</td>\n",
       "      <td>5</td>\n",
       "      <td>0</td>\n",
       "    </tr>\n",
       "    <tr>\n",
       "      <th>2</th>\n",
       "      <td>732</td>\n",
       "      <td>0.024390</td>\n",
       "      <td>0.200000</td>\n",
       "      <td>0.0</td>\n",
       "      <td>0.013123</td>\n",
       "      <td>0.0</td>\n",
       "      <td>0.993593</td>\n",
       "      <td>0.013123</td>\n",
       "      <td>0.944444</td>\n",
       "      <td>5</td>\n",
       "      <td>0</td>\n",
       "    </tr>\n",
       "    <tr>\n",
       "      <th>3</th>\n",
       "      <td>732</td>\n",
       "      <td>0.142857</td>\n",
       "      <td>0.200000</td>\n",
       "      <td>0.0</td>\n",
       "      <td>0.003042</td>\n",
       "      <td>0.0</td>\n",
       "      <td>0.993593</td>\n",
       "      <td>0.003042</td>\n",
       "      <td>1.000000</td>\n",
       "      <td>5</td>\n",
       "      <td>0</td>\n",
       "    </tr>\n",
       "    <tr>\n",
       "      <th>4</th>\n",
       "      <td>732</td>\n",
       "      <td>0.100000</td>\n",
       "      <td>0.200000</td>\n",
       "      <td>0.0</td>\n",
       "      <td>0.097477</td>\n",
       "      <td>0.0</td>\n",
       "      <td>0.993593</td>\n",
       "      <td>0.097477</td>\n",
       "      <td>1.000000</td>\n",
       "      <td>5</td>\n",
       "      <td>0</td>\n",
       "    </tr>\n",
       "    <tr>\n",
       "      <th>5</th>\n",
       "      <td>900</td>\n",
       "      <td>0.051282</td>\n",
       "      <td>0.222222</td>\n",
       "      <td>0.0</td>\n",
       "      <td>0.001318</td>\n",
       "      <td>0.0</td>\n",
       "      <td>0.000000</td>\n",
       "      <td>0.001242</td>\n",
       "      <td>0.500000</td>\n",
       "      <td>7</td>\n",
       "      <td>0</td>\n",
       "    </tr>\n",
       "  </tbody>\n",
       "</table>\n",
       "</div>"
      ],
      "text/plain": [
       "           Auction_ID  Bidder_Tendency  Bidding_Ratio  Successive_Outbidding  \\\n",
       "Record_ID                                                                      \n",
       "1                 732         0.200000       0.400000                    0.0   \n",
       "2                 732         0.024390       0.200000                    0.0   \n",
       "3                 732         0.142857       0.200000                    0.0   \n",
       "4                 732         0.100000       0.200000                    0.0   \n",
       "5                 900         0.051282       0.222222                    0.0   \n",
       "\n",
       "           Last_Bidding  Auction_Bids  Starting_Price_Average  Early_Bidding  \\\n",
       "Record_ID                                                                      \n",
       "1              0.000028           0.0                0.993593       0.000028   \n",
       "2              0.013123           0.0                0.993593       0.013123   \n",
       "3              0.003042           0.0                0.993593       0.003042   \n",
       "4              0.097477           0.0                0.993593       0.097477   \n",
       "5              0.001318           0.0                0.000000       0.001242   \n",
       "\n",
       "           Winning_Ratio  Auction_Duration  Class  \n",
       "Record_ID                                          \n",
       "1               0.666667                 5      0  \n",
       "2               0.944444                 5      0  \n",
       "3               1.000000                 5      0  \n",
       "4               1.000000                 5      0  \n",
       "5               0.500000                 7      0  "
      ]
     },
     "execution_count": 6,
     "metadata": {},
     "output_type": "execute_result"
    }
   ],
   "source": [
    "df = df.drop(columns = ['Bidder_ID'])\n",
    "df.head(5)"
   ]
  },
  {
   "cell_type": "code",
   "execution_count": 7,
   "id": "0e6a8e2c",
   "metadata": {},
   "outputs": [
    {
     "data": {
      "text/plain": [
       "Auction_ID\n",
       "589     26\n",
       "1872    26\n",
       "256     24\n",
       "658     24\n",
       "2498    23\n",
       "        ..\n",
       "1756     1\n",
       "548      1\n",
       "1971     1\n",
       "458      1\n",
       "2329     1\n",
       "Name: count, Length: 807, dtype: int64"
      ]
     },
     "execution_count": 7,
     "metadata": {},
     "output_type": "execute_result"
    }
   ],
   "source": [
    "df.Auction_ID.value_counts()\n",
    "\n"
   ]
  },
  {
   "cell_type": "code",
   "execution_count": 8,
   "id": "60d7efa0",
   "metadata": {},
   "outputs": [],
   "source": [
    "df = df.drop(columns = ['Auction_ID'])"
   ]
  },
  {
   "cell_type": "code",
   "execution_count": 9,
   "id": "88ee5ec2",
   "metadata": {},
   "outputs": [
    {
     "data": {
      "text/html": [
       "<div>\n",
       "<style scoped>\n",
       "    .dataframe tbody tr th:only-of-type {\n",
       "        vertical-align: middle;\n",
       "    }\n",
       "\n",
       "    .dataframe tbody tr th {\n",
       "        vertical-align: top;\n",
       "    }\n",
       "\n",
       "    .dataframe thead th {\n",
       "        text-align: right;\n",
       "    }\n",
       "</style>\n",
       "<table border=\"1\" class=\"dataframe\">\n",
       "  <thead>\n",
       "    <tr style=\"text-align: right;\">\n",
       "      <th></th>\n",
       "      <th>Bidder_Tendency</th>\n",
       "      <th>Bidding_Ratio</th>\n",
       "      <th>Successive_Outbidding</th>\n",
       "      <th>Last_Bidding</th>\n",
       "      <th>Auction_Bids</th>\n",
       "      <th>Starting_Price_Average</th>\n",
       "      <th>Early_Bidding</th>\n",
       "      <th>Winning_Ratio</th>\n",
       "      <th>Auction_Duration</th>\n",
       "      <th>Class</th>\n",
       "    </tr>\n",
       "  </thead>\n",
       "  <tbody>\n",
       "    <tr>\n",
       "      <th>count</th>\n",
       "      <td>6321.000000</td>\n",
       "      <td>6321.000000</td>\n",
       "      <td>6321.000000</td>\n",
       "      <td>6321.000000</td>\n",
       "      <td>6321.000000</td>\n",
       "      <td>6321.000000</td>\n",
       "      <td>6321.000000</td>\n",
       "      <td>6321.000000</td>\n",
       "      <td>6321.000000</td>\n",
       "      <td>6321.000000</td>\n",
       "    </tr>\n",
       "    <tr>\n",
       "      <th>mean</th>\n",
       "      <td>0.142541</td>\n",
       "      <td>0.127670</td>\n",
       "      <td>0.103781</td>\n",
       "      <td>0.463119</td>\n",
       "      <td>0.231606</td>\n",
       "      <td>0.472821</td>\n",
       "      <td>0.430683</td>\n",
       "      <td>0.367731</td>\n",
       "      <td>4.615093</td>\n",
       "      <td>0.106787</td>\n",
       "    </tr>\n",
       "    <tr>\n",
       "      <th>std</th>\n",
       "      <td>0.197084</td>\n",
       "      <td>0.131530</td>\n",
       "      <td>0.279698</td>\n",
       "      <td>0.380097</td>\n",
       "      <td>0.255252</td>\n",
       "      <td>0.489912</td>\n",
       "      <td>0.380785</td>\n",
       "      <td>0.436573</td>\n",
       "      <td>2.466629</td>\n",
       "      <td>0.308867</td>\n",
       "    </tr>\n",
       "    <tr>\n",
       "      <th>min</th>\n",
       "      <td>0.000000</td>\n",
       "      <td>0.011765</td>\n",
       "      <td>0.000000</td>\n",
       "      <td>0.000000</td>\n",
       "      <td>0.000000</td>\n",
       "      <td>0.000000</td>\n",
       "      <td>0.000000</td>\n",
       "      <td>0.000000</td>\n",
       "      <td>1.000000</td>\n",
       "      <td>0.000000</td>\n",
       "    </tr>\n",
       "    <tr>\n",
       "      <th>25%</th>\n",
       "      <td>0.027027</td>\n",
       "      <td>0.043478</td>\n",
       "      <td>0.000000</td>\n",
       "      <td>0.047928</td>\n",
       "      <td>0.000000</td>\n",
       "      <td>0.000000</td>\n",
       "      <td>0.026620</td>\n",
       "      <td>0.000000</td>\n",
       "      <td>3.000000</td>\n",
       "      <td>0.000000</td>\n",
       "    </tr>\n",
       "    <tr>\n",
       "      <th>50%</th>\n",
       "      <td>0.062500</td>\n",
       "      <td>0.083333</td>\n",
       "      <td>0.000000</td>\n",
       "      <td>0.440937</td>\n",
       "      <td>0.142857</td>\n",
       "      <td>0.000000</td>\n",
       "      <td>0.360104</td>\n",
       "      <td>0.000000</td>\n",
       "      <td>5.000000</td>\n",
       "      <td>0.000000</td>\n",
       "    </tr>\n",
       "    <tr>\n",
       "      <th>75%</th>\n",
       "      <td>0.166667</td>\n",
       "      <td>0.166667</td>\n",
       "      <td>0.000000</td>\n",
       "      <td>0.860363</td>\n",
       "      <td>0.454545</td>\n",
       "      <td>0.993593</td>\n",
       "      <td>0.826761</td>\n",
       "      <td>0.851852</td>\n",
       "      <td>7.000000</td>\n",
       "      <td>0.000000</td>\n",
       "    </tr>\n",
       "    <tr>\n",
       "      <th>max</th>\n",
       "      <td>1.000000</td>\n",
       "      <td>1.000000</td>\n",
       "      <td>1.000000</td>\n",
       "      <td>0.999900</td>\n",
       "      <td>0.788235</td>\n",
       "      <td>0.999935</td>\n",
       "      <td>0.999900</td>\n",
       "      <td>1.000000</td>\n",
       "      <td>10.000000</td>\n",
       "      <td>1.000000</td>\n",
       "    </tr>\n",
       "  </tbody>\n",
       "</table>\n",
       "</div>"
      ],
      "text/plain": [
       "       Bidder_Tendency  Bidding_Ratio  Successive_Outbidding  Last_Bidding  \\\n",
       "count      6321.000000    6321.000000            6321.000000   6321.000000   \n",
       "mean          0.142541       0.127670               0.103781      0.463119   \n",
       "std           0.197084       0.131530               0.279698      0.380097   \n",
       "min           0.000000       0.011765               0.000000      0.000000   \n",
       "25%           0.027027       0.043478               0.000000      0.047928   \n",
       "50%           0.062500       0.083333               0.000000      0.440937   \n",
       "75%           0.166667       0.166667               0.000000      0.860363   \n",
       "max           1.000000       1.000000               1.000000      0.999900   \n",
       "\n",
       "       Auction_Bids  Starting_Price_Average  Early_Bidding  Winning_Ratio  \\\n",
       "count   6321.000000             6321.000000    6321.000000    6321.000000   \n",
       "mean       0.231606                0.472821       0.430683       0.367731   \n",
       "std        0.255252                0.489912       0.380785       0.436573   \n",
       "min        0.000000                0.000000       0.000000       0.000000   \n",
       "25%        0.000000                0.000000       0.026620       0.000000   \n",
       "50%        0.142857                0.000000       0.360104       0.000000   \n",
       "75%        0.454545                0.993593       0.826761       0.851852   \n",
       "max        0.788235                0.999935       0.999900       1.000000   \n",
       "\n",
       "       Auction_Duration        Class  \n",
       "count       6321.000000  6321.000000  \n",
       "mean           4.615093     0.106787  \n",
       "std            2.466629     0.308867  \n",
       "min            1.000000     0.000000  \n",
       "25%            3.000000     0.000000  \n",
       "50%            5.000000     0.000000  \n",
       "75%            7.000000     0.000000  \n",
       "max           10.000000     1.000000  "
      ]
     },
     "execution_count": 9,
     "metadata": {},
     "output_type": "execute_result"
    }
   ],
   "source": [
    "df.describe()"
   ]
  },
  {
   "cell_type": "code",
   "execution_count": 10,
   "id": "1d3fa43d",
   "metadata": {},
   "outputs": [
    {
     "data": {
      "text/html": [
       "<div>\n",
       "<style scoped>\n",
       "    .dataframe tbody tr th:only-of-type {\n",
       "        vertical-align: middle;\n",
       "    }\n",
       "\n",
       "    .dataframe tbody tr th {\n",
       "        vertical-align: top;\n",
       "    }\n",
       "\n",
       "    .dataframe thead th {\n",
       "        text-align: right;\n",
       "    }\n",
       "</style>\n",
       "<table border=\"1\" class=\"dataframe\">\n",
       "  <thead>\n",
       "    <tr style=\"text-align: right;\">\n",
       "      <th></th>\n",
       "      <th>Bidder_Tendency</th>\n",
       "      <th>Bidding_Ratio</th>\n",
       "      <th>Successive_Outbidding</th>\n",
       "      <th>Last_Bidding</th>\n",
       "      <th>Auction_Bids</th>\n",
       "      <th>Starting_Price_Average</th>\n",
       "      <th>Early_Bidding</th>\n",
       "      <th>Winning_Ratio</th>\n",
       "      <th>Auction_Duration</th>\n",
       "      <th>Class</th>\n",
       "    </tr>\n",
       "    <tr>\n",
       "      <th>Record_ID</th>\n",
       "      <th></th>\n",
       "      <th></th>\n",
       "      <th></th>\n",
       "      <th></th>\n",
       "      <th></th>\n",
       "      <th></th>\n",
       "      <th></th>\n",
       "      <th></th>\n",
       "      <th></th>\n",
       "      <th></th>\n",
       "    </tr>\n",
       "  </thead>\n",
       "  <tbody>\n",
       "    <tr>\n",
       "      <th>1</th>\n",
       "      <td>0.200000</td>\n",
       "      <td>0.400000</td>\n",
       "      <td>0.0</td>\n",
       "      <td>0.000028</td>\n",
       "      <td>0.0</td>\n",
       "      <td>0.993593</td>\n",
       "      <td>0.000028</td>\n",
       "      <td>0.666667</td>\n",
       "      <td>0.444444</td>\n",
       "      <td>0</td>\n",
       "    </tr>\n",
       "    <tr>\n",
       "      <th>2</th>\n",
       "      <td>0.024390</td>\n",
       "      <td>0.200000</td>\n",
       "      <td>0.0</td>\n",
       "      <td>0.013123</td>\n",
       "      <td>0.0</td>\n",
       "      <td>0.993593</td>\n",
       "      <td>0.013123</td>\n",
       "      <td>0.944444</td>\n",
       "      <td>0.444444</td>\n",
       "      <td>0</td>\n",
       "    </tr>\n",
       "    <tr>\n",
       "      <th>3</th>\n",
       "      <td>0.142857</td>\n",
       "      <td>0.200000</td>\n",
       "      <td>0.0</td>\n",
       "      <td>0.003042</td>\n",
       "      <td>0.0</td>\n",
       "      <td>0.993593</td>\n",
       "      <td>0.003042</td>\n",
       "      <td>1.000000</td>\n",
       "      <td>0.444444</td>\n",
       "      <td>0</td>\n",
       "    </tr>\n",
       "    <tr>\n",
       "      <th>4</th>\n",
       "      <td>0.100000</td>\n",
       "      <td>0.200000</td>\n",
       "      <td>0.0</td>\n",
       "      <td>0.097477</td>\n",
       "      <td>0.0</td>\n",
       "      <td>0.993593</td>\n",
       "      <td>0.097477</td>\n",
       "      <td>1.000000</td>\n",
       "      <td>0.444444</td>\n",
       "      <td>0</td>\n",
       "    </tr>\n",
       "    <tr>\n",
       "      <th>5</th>\n",
       "      <td>0.051282</td>\n",
       "      <td>0.222222</td>\n",
       "      <td>0.0</td>\n",
       "      <td>0.001318</td>\n",
       "      <td>0.0</td>\n",
       "      <td>0.000000</td>\n",
       "      <td>0.001242</td>\n",
       "      <td>0.500000</td>\n",
       "      <td>0.666667</td>\n",
       "      <td>0</td>\n",
       "    </tr>\n",
       "  </tbody>\n",
       "</table>\n",
       "</div>"
      ],
      "text/plain": [
       "           Bidder_Tendency  Bidding_Ratio  Successive_Outbidding  \\\n",
       "Record_ID                                                          \n",
       "1                 0.200000       0.400000                    0.0   \n",
       "2                 0.024390       0.200000                    0.0   \n",
       "3                 0.142857       0.200000                    0.0   \n",
       "4                 0.100000       0.200000                    0.0   \n",
       "5                 0.051282       0.222222                    0.0   \n",
       "\n",
       "           Last_Bidding  Auction_Bids  Starting_Price_Average  Early_Bidding  \\\n",
       "Record_ID                                                                      \n",
       "1              0.000028           0.0                0.993593       0.000028   \n",
       "2              0.013123           0.0                0.993593       0.013123   \n",
       "3              0.003042           0.0                0.993593       0.003042   \n",
       "4              0.097477           0.0                0.993593       0.097477   \n",
       "5              0.001318           0.0                0.000000       0.001242   \n",
       "\n",
       "           Winning_Ratio  Auction_Duration  Class  \n",
       "Record_ID                                          \n",
       "1               0.666667          0.444444      0  \n",
       "2               0.944444          0.444444      0  \n",
       "3               1.000000          0.444444      0  \n",
       "4               1.000000          0.444444      0  \n",
       "5               0.500000          0.666667      0  "
      ]
     },
     "execution_count": 10,
     "metadata": {},
     "output_type": "execute_result"
    }
   ],
   "source": [
    "from sklearn.preprocessing import MinMaxScaler\n",
    "\n",
    "\n",
    "df['Auction_Duration'] = MinMaxScaler().fit_transform(df[['Auction_Duration']])\n",
    "df.head(5)"
   ]
  },
  {
   "cell_type": "code",
   "execution_count": 11,
   "id": "27835a44",
   "metadata": {
    "scrolled": false
   },
   "outputs": [
    {
     "data": {
      "image/png": "[encoded data removed]",
      "text/plain": [
       "<Figure size 640x480 with 1 Axes>"
      ]
     },
     "metadata": {},
     "output_type": "display_data"
    },
    {
     "name": "stdout",
     "output_type": "stream",
     "text": [
      "Class\n",
      "0    5646\n",
      "1     675\n",
      "Name: count, dtype: int64\n"
     ]
    }
   ],
   "source": [
    "import matplotlib.pyplot as plt\n",
    "\n",
    "class_counts = df['Class'].value_counts()\n",
    "\n",
    "# Create a bar plot\n",
    "plt.bar(class_counts.index.astype(str), class_counts.values)\n",
    "\n",
    "# Set the title and labels\n",
    "plt.title('Bidding Behaviour')\n",
    "plt.xlabel('Class')\n",
    "plt.ylabel('Count')\n",
    "\n",
    "# Display the plot\n",
    "plt.show()\n",
    "\n",
    "print(class_counts)"
   ]
  },
  {
   "cell_type": "code",
   "execution_count": 12,
   "id": "a92812ae",
   "metadata": {},
   "outputs": [
    {
     "name": "stdout",
     "output_type": "stream",
     "text": [
      "           Bidder_Tendency  Bidding_Ratio  Successive_Outbidding  \\\n",
      "Record_ID                                                          \n",
      "1                 0.200000       0.400000                    0.0   \n",
      "2                 0.024390       0.200000                    0.0   \n",
      "3                 0.142857       0.200000                    0.0   \n",
      "4                 0.100000       0.200000                    0.0   \n",
      "5                 0.051282       0.222222                    0.0   \n",
      "\n",
      "           Last_Bidding  Auction_Bids  Starting_Price_Average  Early_Bidding  \\\n",
      "Record_ID                                                                      \n",
      "1              0.000028           0.0                0.993593       0.000028   \n",
      "2              0.013123           0.0                0.993593       0.013123   \n",
      "3              0.003042           0.0                0.993593       0.003042   \n",
      "4              0.097477           0.0                0.993593       0.097477   \n",
      "5              0.001318           0.0                0.000000       0.001242   \n",
      "\n",
      "           Winning_Ratio  Auction_Duration  \n",
      "Record_ID                                   \n",
      "1               0.666667          0.444444  \n",
      "2               0.944444          0.444444  \n",
      "3               1.000000          0.444444  \n",
      "4               1.000000          0.444444  \n",
      "5               0.500000          0.666667  \n",
      "Record_ID\n",
      "1    0\n",
      "2    0\n",
      "3    0\n",
      "4    0\n",
      "5    0\n",
      "Name: Class, dtype: int64\n"
     ]
    }
   ],
   "source": [
    "# Splitting the dataset into input variables X and target variable y\n",
    "\n",
    "X = df.drop(['Class'], axis=1)\n",
    "y = df.Class\n",
    "\n",
    "print(X.head())\n",
    "print(y[0:5])"
   ]
  },
  {
   "cell_type": "code",
   "execution_count": 13,
   "id": "957fd241",
   "metadata": {},
   "outputs": [
    {
     "name": "stdout",
     "output_type": "stream",
     "text": [
      "Size of training X:  (4424, 9)\n",
      "Size of validation X:  (948, 9)\n",
      "Size of training X:  (949, 9)\n"
     ]
    }
   ],
   "source": [
    "X_train, X_tmp, y_train, y_tmp = train_test_split(X, y, test_size=0.3, random_state=1)\n",
    "\n",
    "print(\"Size of training X: \", X_train.shape)\n",
    "\n",
    "X_validation, X_test, y_validation, y_test = train_test_split(X_tmp, y_tmp, test_size=0.5, random_state=1)\n",
    "\n",
    "print(\"Size of validation X: \", X_validation.shape)\n",
    "print(\"Size of training X: \", X_test.shape)"
   ]
  },
  {
   "cell_type": "code",
   "execution_count": 20,
   "id": "872b4ef6",
   "metadata": {},
   "outputs": [
    {
     "name": "stdout",
     "output_type": "stream",
     "text": [
      "Accuracy:  0.9757383966244726\n"
     ]
    }
   ],
   "source": [
    "clf1 = SVC()\n",
    "\n",
    "clf1 = clf1.fit(X_train, y_train)\n",
    "\n",
    "y_pred1 = clf1.predict(X_validation)\n",
    "\n",
    "print(\"Accuracy: \", metrics.accuracy_score(y_validation, y_pred1))"
   ]
  },
  {
   "cell_type": "code",
   "execution_count": 47,
   "id": "b1f26283",
   "metadata": {},
   "outputs": [
    {
     "name": "stdout",
     "output_type": "stream",
     "text": [
      "Accuracy (Initial Model):  0.9757383966244726\n"
     ]
    }
   ],
   "source": [
    "y_pred1 = clf1.predict(X_validation)\n",
    "\n",
    "print(\"Accuracy (Initial Model): \", metrics.accuracy_score(y_validation, y_pred1))"
   ]
  },
  {
   "cell_type": "code",
   "execution_count": 48,
   "id": "e25f1a87",
   "metadata": {},
   "outputs": [
    {
     "name": "stdout",
     "output_type": "stream",
     "text": [
      "Accuracy (Linear Kernel):  0.9767932489451476\n"
     ]
    }
   ],
   "source": [
    "clf2 = SVC(kernel = 'linear')\n",
    "\n",
    "clf2 = clf2.fit(X_train, y_train)\n",
    "\n",
    "y_pred2 = clf2.predict(X_validation)\n",
    "\n",
    "print(\"Accuracy (Linear Kernel): \", metrics.accuracy_score(y_validation, y_pred2))"
   ]
  },
  {
   "cell_type": "code",
   "execution_count": 17,
   "id": "a306d9e9",
   "metadata": {},
   "outputs": [
    {
     "name": "stdout",
     "output_type": "stream",
     "text": [
      "Size of training X:  (4424, 9)\n",
      "Size of validation X:  (948, 9)\n",
      "Size of training X:  (949, 9)\n",
      "Accuracy:  0.9757383966244726\n",
      "Accuracy:  0.9767932489451476\n"
     ]
    }
   ],
   "source": []
  },
  {
   "cell_type": "code",
   "execution_count": 18,
   "id": "81a1aed7",
   "metadata": {},
   "outputs": [
    {
     "name": "stdout",
     "output_type": "stream",
     "text": [
      "Best Parameters: {'C': 100, 'gamma': 1, 'kernel': 'rbf'}\n"
     ]
    }
   ],
   "source": [
    "from sklearn.model_selection import GridSearchCV\n",
    "\n",
    "param_grid = {'C': [0.1, 1, 10, 100], 'gamma': ['scale', 'auto', 0.1, 1, 10], 'kernel': ['linear', 'rbf', 'poly']}\n",
    "grid_search = GridSearchCV(SVC(), param_grid, cv=5)\n",
    "grid_search.fit(X_train, y_train)\n",
    "\n",
    "best_params = grid_search.best_params_\n",
    "print(\"Best Parameters:\", best_params)"
   ]
  },
  {
   "cell_type": "code",
   "execution_count": 28,
   "id": "d57525d1",
   "metadata": {},
   "outputs": [
    {
     "name": "stdout",
     "output_type": "stream",
     "text": [
      "Accuracy (Tuned Model): 0.9936708860759493\n"
     ]
    }
   ],
   "source": [
    "# Create and train a new SVM model with the best parameters\n",
    "tuned_clf = SVC(C=100, gamma=1, kernel='rbf')\n",
    "tuned_clf.fit(X_train, y_train)\n",
    "\n",
    "# Predict on the validation set\n",
    "y_pred_tuned = tuned_clf.predict(X_validation)\n",
    "\n",
    "print(\"Accuracy (Tuned Model):\", metrics.accuracy_score(y_validation, y_pred_tuned))\n"
   ]
  },
  {
   "cell_type": "code",
   "execution_count": 22,
   "id": "429a4744",
   "metadata": {},
   "outputs": [
    {
     "name": "stdout",
     "output_type": "stream",
     "text": [
      "Accuracy (Initial Model):  0.9757383966244726\n",
      "Accuracy (Linear Kernel):  0.9767932489451476\n",
      "Accuracy (Tuned Model): 0.9936708860759493\n"
     ]
    }
   ],
   "source": [
    "print(\"Accuracy (Initial Model): \", metrics.accuracy_score(y_validation, y_pred1))\n",
    "print(\"Accuracy (Linear Kernel): \", metrics.accuracy_score(y_validation, y_pred2))\n",
    "print(\"Accuracy (Tuned Model):\", accuracy_tuned)"
   ]
  },
  {
   "cell_type": "code",
   "execution_count": 45,
   "id": "4b9a8dd0",
   "metadata": {},
   "outputs": [
    {
     "name": "stdout",
     "output_type": "stream",
     "text": [
      "              precision    recall  f1-score   support\n",
      "\n",
      "           0       1.00      0.97      0.99       860\n",
      "           1       0.80      0.99      0.88        88\n",
      "\n",
      "    accuracy                           0.98       948\n",
      "   macro avg       0.90      0.98      0.93       948\n",
      "weighted avg       0.98      0.98      0.98       948\n",
      "\n",
      "Axes(0.125,0.11;0.775x0.77)\n"
     ]
    },
    {
     "data": {
      "image/png": "[encoded data removed]",
      "text/plain": [
       "<Figure size 640x480 with 1 Axes>"
      ]
     },
     "metadata": {},
     "output_type": "display_data"
    }
   ],
   "source": [
    "from sklearn.model_selection import cross_val_score     \n",
    "from sklearn.metrics import confusion_matrix             \n",
    "from sklearn.metrics import accuracy_score\n",
    "from sklearn.metrics import classification_report\n",
    "import seaborn as sns\n",
    "\n",
    "print(classification_report(y_validation, y_pred1))\n",
    "print(sns.heatmap(confusion_matrix(y_validation, y_pred1), annot=True, fmt='.4g',                 \n",
    "                 xticklabels=['Normal behaviour (0 class)','Abnormal Behaviour (1 class)'],                \n",
    "                 yticklabels=['Normal behaviour (0 class)','Abnormal Behaviour (1 class)'],                  \n",
    "                 cbar=False, cmap='Oranges'))"
   ]
  },
  {
   "cell_type": "markdown",
   "id": "e48867f2",
   "metadata": {},
   "source": [
    "We can observe that the model perfomed very well. Over 860 **0 class** values 22 were predicted as False Positive and over 88 **1 class** values 1 was predicted as False Negative, which is a very good result.\n"
   ]
  },
  {
   "cell_type": "code",
   "execution_count": 44,
   "id": "88cb003c",
   "metadata": {},
   "outputs": [
    {
     "name": "stdout",
     "output_type": "stream",
     "text": [
      "              precision    recall  f1-score   support\n",
      "\n",
      "           0       1.00      0.97      0.99       860\n",
      "           1       0.80      1.00      0.89        88\n",
      "\n",
      "    accuracy                           0.98       948\n",
      "   macro avg       0.90      0.99      0.94       948\n",
      "weighted avg       0.98      0.98      0.98       948\n",
      "\n",
      "Axes(0.125,0.11;0.775x0.77)\n"
     ]
    },
    {
     "data": {
      "image/png": "[encoded data removed]",
      "text/plain": [
       "<Figure size 640x480 with 1 Axes>"
      ]
     },
     "metadata": {},
     "output_type": "display_data"
    }
   ],
   "source": [
    "print(classification_report(y_validation, y_pred2))\n",
    "print(sns.heatmap(confusion_matrix(y_validation, y_pred2), annot=True, fmt='.4g',                 \n",
    "                 xticklabels=['Normal behaviour (0 class)','Abnormal Behaviour (1 class)'],                \n",
    "                 yticklabels=['Normal behaviour (0 class)','Abnormal Behaviour (1 class)'],                  \n",
    "                 cbar=False, cmap='Oranges'))"
   ]
  },
  {
   "cell_type": "markdown",
   "id": "f1014b64",
   "metadata": {},
   "source": [
    "We can observe that the model perfomed very well. Over 860 **0 class** values 22 were predicted as False Positive and over 88 **1 class** values none were predicted as False Negative, which is a very good result.\n"
   ]
  },
  {
   "cell_type": "code",
   "execution_count": 46,
   "id": "aa366ecb",
   "metadata": {},
   "outputs": [
    {
     "name": "stdout",
     "output_type": "stream",
     "text": [
      "              precision    recall  f1-score   support\n",
      "\n",
      "           0       1.00      1.00      1.00       860\n",
      "           1       0.97      0.97      0.97        88\n",
      "\n",
      "    accuracy                           0.99       948\n",
      "   macro avg       0.98      0.98      0.98       948\n",
      "weighted avg       0.99      0.99      0.99       948\n",
      "\n",
      "Axes(0.125,0.11;0.775x0.77)\n"
     ]
    },
    {
     "data": {
      "image/png": "[encoded data removed]",
      "text/plain": [
       "<Figure size 640x480 with 1 Axes>"
      ]
     },
     "metadata": {},
     "output_type": "display_data"
    }
   ],
   "source": [
    "print(classification_report(y_validation, y_pred_tuned))\n",
    "print(sns.heatmap(confusion_matrix(y_validation, y_pred_tuned), annot=True, fmt='.4g',                 \n",
    "                 xticklabels=['Normal behaviour (0 class)','Abnormal Behaviour (1 class)'],                \n",
    "                 yticklabels=['Normal behaviour (0 class)','Abnormal Behaviour (1 class)'],                  \n",
    "                 cbar=False, cmap='Oranges'))"
   ]
  },
  {
   "cell_type": "markdown",
   "id": "1ef0c245",
   "metadata": {},
   "source": [
    "\n",
    "We can obserse that the model perfomed very well. Over 860 **0 class** values 3 were predicted as False Positive and over 88 **1 class** values only 3 were predicted as False Negative, which is a very good result.\n"
   ]
  },
  {
   "cell_type": "code",
   "execution_count": null,
   "id": "39b34094",
   "metadata": {},
   "outputs": [],
   "source": []
  }
 ],
 "metadata": {
  "kernelspec": {
   "display_name": "Python 3 (ipykernel)",
   "language": "python",
   "name": "python3"
  },
  "language_info": {
   "codemirror_mode": {
    "name": "ipython",
    "version": 3
   },
   "file_extension": ".py",
   "mimetype": "text/x-python",
   "name": "python",
   "nbconvert_exporter": "python",
   "pygments_lexer": "ipython3",
   "version": "3.11.5"
  }
 },
 "nbformat": 4,
 "nbformat_minor": 5
}
